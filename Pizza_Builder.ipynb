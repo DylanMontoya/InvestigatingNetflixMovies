{
  "nbformat": 4,
  "nbformat_minor": 0,
  "metadata": {
    "colab": {
      "provenance": [],
      "authorship_tag": "ABX9TyOIcgVrptGXUwwibknUryAY",
      "include_colab_link": true
    },
    "kernelspec": {
      "name": "python3",
      "display_name": "Python 3"
    },
    "language_info": {
      "name": "python"
    }
  },
  "cells": [
    {
      "cell_type": "markdown",
      "metadata": {
        "id": "view-in-github",
        "colab_type": "text"
      },
      "source": [
        "<a href=\"https://colab.research.google.com/github/DylanMontoya/ProjectsDatacamp/blob/main/Pizza_Builder.ipynb\" target=\"_parent\"><img src=\"https://colab.research.google.com/assets/colab-badge.svg\" alt=\"Open In Colab\"/></a>"
      ]
    },
    {
      "cell_type": "markdown",
      "source": [
        "# **Pasos para construir una pizza**\n",
        "Patrón de diseño - Builder"
      ],
      "metadata": {
        "id": "GBeHQXtkOfeS"
      }
    },
    {
      "cell_type": "markdown",
      "source": [
        "# **1. Producto**"
      ],
      "metadata": {
        "id": "i94hjgeaNniW"
      }
    },
    {
      "cell_type": "code",
      "source": [
        "class Pizza:\n",
        "    def __init__(self):\n",
        "        self.tipo = None\n",
        "        self.masa = None\n",
        "        self.salsa = None\n",
        "        self.aderezos = []"
      ],
      "metadata": {
        "id": "BxhtF0TJNiYP"
      },
      "execution_count": 13,
      "outputs": []
    },
    {
      "cell_type": "markdown",
      "source": [
        "# **2. Builder**"
      ],
      "metadata": {
        "id": "h_FPlvwyNwnm"
      }
    },
    {
      "cell_type": "code",
      "source": [
        "class PizzaBuilder:\n",
        "    def __init__(self):\n",
        "        self.pizza = Pizza()\n",
        "\n",
        "    def build_tipo(self):\n",
        "        pass\n",
        "\n",
        "    def build_masa(self):\n",
        "        pass\n",
        "\n",
        "    def build_salsa(self):\n",
        "        pass\n",
        "\n",
        "    def build_aderezos(self):\n",
        "        pass\n",
        "\n",
        "    def get_pizza(self):\n",
        "        return self.pizza"
      ],
      "metadata": {
        "id": "_MKkiKsINvOi"
      },
      "execution_count": 14,
      "outputs": []
    },
    {
      "cell_type": "markdown",
      "source": [
        "# **3. ConcreteBuilder**\n"
      ],
      "metadata": {
        "id": "2EDx3l2NN6GB"
      }
    },
    {
      "cell_type": "code",
      "source": [
        "class HawaiPizzaBuilder(PizzaBuilder):\n",
        "    def build_tipo(self):\n",
        "        self.pizza.tipo = \"Hawaiana\"\n",
        "\n",
        "    def build_masa(self):\n",
        "        self.pizza.masa = \"Delgada\"\n",
        "\n",
        "    def build_salsa(self):\n",
        "        self.pizza.salsa = \"Tomate\"\n",
        "\n",
        "    def build_aderezos(self):\n",
        "        self.pizza.aderezos = [\"Piña\", \"Jamón\"]\n"
      ],
      "metadata": {
        "id": "bq5A2UwBN5RF"
      },
      "execution_count": 15,
      "outputs": []
    },
    {
      "cell_type": "markdown",
      "source": [
        "# **4. Director**"
      ],
      "metadata": {
        "id": "GWPkqBemOAxE"
      }
    },
    {
      "cell_type": "code",
      "source": [
        "class Cocina:\n",
        "    def construct_pizza(self, builder):\n",
        "        builder.build_tipo()\n",
        "        builder.build_masa()\n",
        "        builder.build_salsa()\n",
        "        builder.build_aderezos()"
      ],
      "metadata": {
        "id": "bUJdR1zKN-Ec"
      },
      "execution_count": 16,
      "outputs": []
    },
    {
      "cell_type": "markdown",
      "source": [
        "# **5. Cliente**"
      ],
      "metadata": {
        "id": "NCdHucGPOGwY"
      }
    },
    {
      "cell_type": "code",
      "execution_count": 17,
      "metadata": {
        "id": "eQhNxUMoLJdp"
      },
      "outputs": [],
      "source": [
        "if __name__ == \"__main__\":\n",
        "    hawai_builder = HawaiPizzaBuilder()\n",
        "    cocina = Cocina()\n",
        "    cocina.construct_pizza(hawai_builder)\n",
        "    pizza_hawaiana = hawai_builder.get_pizza()"
      ]
    },
    {
      "cell_type": "markdown",
      "source": [
        "# **Pedido**"
      ],
      "metadata": {
        "id": "AbGUiFu2OJzu"
      }
    },
    {
      "cell_type": "code",
      "source": [
        "print(f\"Tipo: {pizza_hawaiana.tipo}\")\n",
        "print(f\"Masa: {pizza_hawaiana.masa}\")\n",
        "print(f\"Salsa: {pizza_hawaiana.salsa}\")\n",
        "print(f\"Aderezos: {', '.join(pizza_hawaiana.aderezos)}\")\n"
      ],
      "metadata": {
        "colab": {
          "base_uri": "https://localhost:8080/"
        },
        "id": "dfCIguM4Nc7R",
        "outputId": "f361f424-ce84-4cd4-aa6d-fbf6209a1de0"
      },
      "execution_count": 21,
      "outputs": [
        {
          "output_type": "stream",
          "name": "stdout",
          "text": [
            "Tipo: Hawaiana\n",
            "Masa: Delgada\n",
            "Salsa: Tomate\n",
            "Aderezos: Piña, Jamón\n"
          ]
        }
      ]
    }
  ]
}